{
 "cells": [
  {
   "cell_type": "code",
   "execution_count": 1,
   "metadata": {},
   "outputs": [
    {
     "name": "stderr",
     "output_type": "stream",
     "text": [
      "c:\\Users\\saura\\anaconda3\\Lib\\site-packages\\pandas\\core\\arrays\\masked.py:60: UserWarning: Pandas requires version '1.3.6' or newer of 'bottleneck' (version '1.3.5' currently installed).\n",
      "  from pandas.core import (\n"
     ]
    }
   ],
   "source": [
    "import tensorflow as tf \n",
    "from tensorflow.keras.models import load_model\n",
    "import pickle\n",
    "import pandas as pd\n",
    "import numpy as np"
   ]
  },
  {
   "cell_type": "code",
   "execution_count": 2,
   "metadata": {},
   "outputs": [
    {
     "name": "stderr",
     "output_type": "stream",
     "text": [
      "WARNING:absl:Compiled the loaded model, but the compiled metrics have yet to be built. `model.compile_metrics` will be empty until you train or evaluate the model.\n"
     ]
    }
   ],
   "source": [
    "# Load trained load model\n",
    "model = load_model(\"model.h5\")\n",
    "\n",
    "# Load encoder and scaler\n",
    "with open(\"onehot_encoder_geo.pkl\",\"rb\") as file:\n",
    "    label_encoder_geo = pickle.load(file)\n",
    "\n",
    "with open(\"label_encoder_gender.pkl\",\"rb\")as file:\n",
    "    label_encoder_gender = pickle.load(file)\n",
    "\n",
    "with open(\"scaler.pkl\",\"rb\")as file:\n",
    "    scaler = pickle.load(file)\n"
   ]
  },
  {
   "cell_type": "code",
   "execution_count": 3,
   "metadata": {},
   "outputs": [],
   "source": [
    "input_data={\n",
    "    'CreditScore':600,\n",
    "    'Geography':'France',\n",
    "    'Gender':'Male',\n",
    "    'Age':40,\n",
    "    'Tenure':3,\n",
    "    'Balance':60000,\n",
    "    'NumOfProducts':2,\n",
    "    'HasCrCard':1,\n",
    "    'IsActiveMember':1,\n",
    "    'EstimatedSalary':50000\n",
    "\n",
    "}"
   ]
  },
  {
   "cell_type": "code",
   "execution_count": 4,
   "metadata": {},
   "outputs": [
    {
     "name": "stderr",
     "output_type": "stream",
     "text": [
      "c:\\Users\\saura\\anaconda3\\Lib\\site-packages\\sklearn\\base.py:493: UserWarning: X does not have valid feature names, but OneHotEncoder was fitted with feature names\n",
      "  warnings.warn(\n"
     ]
    },
    {
     "data": {
      "text/plain": [
       "array([[1., 0., 0.]])"
      ]
     },
     "execution_count": 4,
     "metadata": {},
     "output_type": "execute_result"
    }
   ],
   "source": [
    "geo_encoded = label_encoder_geo.transform([[input_data['Geography']]]).toarray()\n",
    "geo_encoded"
   ]
  },
  {
   "cell_type": "code",
   "execution_count": 5,
   "metadata": {},
   "outputs": [
    {
     "data": {
      "text/html": [
       "<div>\n",
       "<style scoped>\n",
       "    .dataframe tbody tr th:only-of-type {\n",
       "        vertical-align: middle;\n",
       "    }\n",
       "\n",
       "    .dataframe tbody tr th {\n",
       "        vertical-align: top;\n",
       "    }\n",
       "\n",
       "    .dataframe thead th {\n",
       "        text-align: right;\n",
       "    }\n",
       "</style>\n",
       "<table border=\"1\" class=\"dataframe\">\n",
       "  <thead>\n",
       "    <tr style=\"text-align: right;\">\n",
       "      <th></th>\n",
       "      <th>Geography_France</th>\n",
       "      <th>Geography_Germany</th>\n",
       "      <th>Geography_Spain</th>\n",
       "    </tr>\n",
       "  </thead>\n",
       "  <tbody>\n",
       "    <tr>\n",
       "      <th>0</th>\n",
       "      <td>1.0</td>\n",
       "      <td>0.0</td>\n",
       "      <td>0.0</td>\n",
       "    </tr>\n",
       "  </tbody>\n",
       "</table>\n",
       "</div>"
      ],
      "text/plain": [
       "   Geography_France  Geography_Germany  Geography_Spain\n",
       "0               1.0                0.0              0.0"
      ]
     },
     "execution_count": 5,
     "metadata": {},
     "output_type": "execute_result"
    }
   ],
   "source": [
    "geo_encoded_df = pd.DataFrame(geo_encoded,columns = label_encoder_geo.get_feature_names_out(['Geography']))\n",
    "geo_encoded_df"
   ]
  },
  {
   "cell_type": "code",
   "execution_count": 6,
   "metadata": {},
   "outputs": [],
   "source": [
    "input_df = pd.DataFrame([input_data])"
   ]
  },
  {
   "cell_type": "code",
   "execution_count": 7,
   "metadata": {},
   "outputs": [
    {
     "data": {
      "text/html": [
       "<div>\n",
       "<style scoped>\n",
       "    .dataframe tbody tr th:only-of-type {\n",
       "        vertical-align: middle;\n",
       "    }\n",
       "\n",
       "    .dataframe tbody tr th {\n",
       "        vertical-align: top;\n",
       "    }\n",
       "\n",
       "    .dataframe thead th {\n",
       "        text-align: right;\n",
       "    }\n",
       "</style>\n",
       "<table border=\"1\" class=\"dataframe\">\n",
       "  <thead>\n",
       "    <tr style=\"text-align: right;\">\n",
       "      <th></th>\n",
       "      <th>CreditScore</th>\n",
       "      <th>Geography</th>\n",
       "      <th>Gender</th>\n",
       "      <th>Age</th>\n",
       "      <th>Tenure</th>\n",
       "      <th>Balance</th>\n",
       "      <th>NumOfProducts</th>\n",
       "      <th>HasCrCard</th>\n",
       "      <th>IsActiveMember</th>\n",
       "      <th>EstimatedSalary</th>\n",
       "    </tr>\n",
       "  </thead>\n",
       "  <tbody>\n",
       "    <tr>\n",
       "      <th>0</th>\n",
       "      <td>600</td>\n",
       "      <td>France</td>\n",
       "      <td>Male</td>\n",
       "      <td>40</td>\n",
       "      <td>3</td>\n",
       "      <td>60000</td>\n",
       "      <td>2</td>\n",
       "      <td>1</td>\n",
       "      <td>1</td>\n",
       "      <td>50000</td>\n",
       "    </tr>\n",
       "  </tbody>\n",
       "</table>\n",
       "</div>"
      ],
      "text/plain": [
       "   CreditScore Geography Gender  Age  Tenure  Balance  NumOfProducts  \\\n",
       "0          600    France   Male   40       3    60000              2   \n",
       "\n",
       "   HasCrCard  IsActiveMember  EstimatedSalary  \n",
       "0          1               1            50000  "
      ]
     },
     "execution_count": 7,
     "metadata": {},
     "output_type": "execute_result"
    }
   ],
   "source": [
    "input_df"
   ]
  },
  {
   "cell_type": "code",
   "execution_count": 8,
   "metadata": {},
   "outputs": [
    {
     "name": "stderr",
     "output_type": "stream",
     "text": [
      "c:\\Users\\saura\\anaconda3\\Lib\\site-packages\\sklearn\\preprocessing\\_label.py:132: DataConversionWarning: A column-vector y was passed when a 1d array was expected. Please change the shape of y to (n_samples, ), for example using ravel().\n",
      "  y = column_or_1d(y, dtype=self.classes_.dtype, warn=True)\n"
     ]
    },
    {
     "data": {
      "text/html": [
       "<div>\n",
       "<style scoped>\n",
       "    .dataframe tbody tr th:only-of-type {\n",
       "        vertical-align: middle;\n",
       "    }\n",
       "\n",
       "    .dataframe tbody tr th {\n",
       "        vertical-align: top;\n",
       "    }\n",
       "\n",
       "    .dataframe thead th {\n",
       "        text-align: right;\n",
       "    }\n",
       "</style>\n",
       "<table border=\"1\" class=\"dataframe\">\n",
       "  <thead>\n",
       "    <tr style=\"text-align: right;\">\n",
       "      <th></th>\n",
       "      <th>CreditScore</th>\n",
       "      <th>Geography</th>\n",
       "      <th>Gender</th>\n",
       "      <th>Age</th>\n",
       "      <th>Tenure</th>\n",
       "      <th>Balance</th>\n",
       "      <th>NumOfProducts</th>\n",
       "      <th>HasCrCard</th>\n",
       "      <th>IsActiveMember</th>\n",
       "      <th>EstimatedSalary</th>\n",
       "    </tr>\n",
       "  </thead>\n",
       "  <tbody>\n",
       "    <tr>\n",
       "      <th>0</th>\n",
       "      <td>600</td>\n",
       "      <td>France</td>\n",
       "      <td>1</td>\n",
       "      <td>40</td>\n",
       "      <td>3</td>\n",
       "      <td>60000</td>\n",
       "      <td>2</td>\n",
       "      <td>1</td>\n",
       "      <td>1</td>\n",
       "      <td>50000</td>\n",
       "    </tr>\n",
       "  </tbody>\n",
       "</table>\n",
       "</div>"
      ],
      "text/plain": [
       "   CreditScore Geography  Gender  Age  Tenure  Balance  NumOfProducts  \\\n",
       "0          600    France       1   40       3    60000              2   \n",
       "\n",
       "   HasCrCard  IsActiveMember  EstimatedSalary  \n",
       "0          1               1            50000  "
      ]
     },
     "execution_count": 8,
     "metadata": {},
     "output_type": "execute_result"
    }
   ],
   "source": [
    "# Change the male to 1 by using label_encoder_gender.transform.\n",
    "\n",
    "input_df['Gender'] = label_encoder_gender.transform([input_df['Gender']])\n",
    "input_df"
   ]
  },
  {
   "cell_type": "code",
   "execution_count": 9,
   "metadata": {},
   "outputs": [],
   "source": [
    "input_df = pd.concat([input_df.drop('Geography',axis=1),geo_encoded_df],axis=1)"
   ]
  },
  {
   "cell_type": "code",
   "execution_count": 10,
   "metadata": {},
   "outputs": [
    {
     "data": {
      "text/html": [
       "<div>\n",
       "<style scoped>\n",
       "    .dataframe tbody tr th:only-of-type {\n",
       "        vertical-align: middle;\n",
       "    }\n",
       "\n",
       "    .dataframe tbody tr th {\n",
       "        vertical-align: top;\n",
       "    }\n",
       "\n",
       "    .dataframe thead th {\n",
       "        text-align: right;\n",
       "    }\n",
       "</style>\n",
       "<table border=\"1\" class=\"dataframe\">\n",
       "  <thead>\n",
       "    <tr style=\"text-align: right;\">\n",
       "      <th></th>\n",
       "      <th>CreditScore</th>\n",
       "      <th>Gender</th>\n",
       "      <th>Age</th>\n",
       "      <th>Tenure</th>\n",
       "      <th>Balance</th>\n",
       "      <th>NumOfProducts</th>\n",
       "      <th>HasCrCard</th>\n",
       "      <th>IsActiveMember</th>\n",
       "      <th>EstimatedSalary</th>\n",
       "      <th>Geography_France</th>\n",
       "      <th>Geography_Germany</th>\n",
       "      <th>Geography_Spain</th>\n",
       "    </tr>\n",
       "  </thead>\n",
       "  <tbody>\n",
       "    <tr>\n",
       "      <th>0</th>\n",
       "      <td>600</td>\n",
       "      <td>1</td>\n",
       "      <td>40</td>\n",
       "      <td>3</td>\n",
       "      <td>60000</td>\n",
       "      <td>2</td>\n",
       "      <td>1</td>\n",
       "      <td>1</td>\n",
       "      <td>50000</td>\n",
       "      <td>1.0</td>\n",
       "      <td>0.0</td>\n",
       "      <td>0.0</td>\n",
       "    </tr>\n",
       "  </tbody>\n",
       "</table>\n",
       "</div>"
      ],
      "text/plain": [
       "   CreditScore  Gender  Age  Tenure  Balance  NumOfProducts  HasCrCard  \\\n",
       "0          600       1   40       3    60000              2          1   \n",
       "\n",
       "   IsActiveMember  EstimatedSalary  Geography_France  Geography_Germany  \\\n",
       "0               1            50000               1.0                0.0   \n",
       "\n",
       "   Geography_Spain  \n",
       "0              0.0  "
      ]
     },
     "execution_count": 10,
     "metadata": {},
     "output_type": "execute_result"
    }
   ],
   "source": [
    "input_df"
   ]
  },
  {
   "cell_type": "code",
   "execution_count": 11,
   "metadata": {},
   "outputs": [],
   "source": [
    "# Scale your data\n",
    "input_scaled = scaler.transform(input_df)"
   ]
  },
  {
   "cell_type": "code",
   "execution_count": 12,
   "metadata": {},
   "outputs": [
    {
     "data": {
      "text/plain": [
       "array([[-0.5152381 ,  0.91301738,  0.10285036, -0.68699257, -0.26063048,\n",
       "         0.79790076,  0.6493972 ,  0.96728484, -0.8682109 ,  0.99850112,\n",
       "        -0.57812007, -0.57542576]])"
      ]
     },
     "execution_count": 12,
     "metadata": {},
     "output_type": "execute_result"
    }
   ],
   "source": [
    "input_scaled"
   ]
  },
  {
   "cell_type": "code",
   "execution_count": 13,
   "metadata": {},
   "outputs": [
    {
     "name": "stdout",
     "output_type": "stream",
     "text": [
      "\u001b[1m1/1\u001b[0m \u001b[32m━━━━━━━━━━━━━━━━━━━━\u001b[0m\u001b[37m\u001b[0m \u001b[1m0s\u001b[0m 106ms/step\n"
     ]
    },
    {
     "data": {
      "text/plain": [
       "array([[0.03831393]], dtype=float32)"
      ]
     },
     "execution_count": 13,
     "metadata": {},
     "output_type": "execute_result"
    }
   ],
   "source": [
    "model.predict(input_scaled)"
   ]
  },
  {
   "cell_type": "code",
   "execution_count": 14,
   "metadata": {},
   "outputs": [
    {
     "name": "stdout",
     "output_type": "stream",
     "text": [
      "\u001b[1m1/1\u001b[0m \u001b[32m━━━━━━━━━━━━━━━━━━━━\u001b[0m\u001b[37m\u001b[0m \u001b[1m0s\u001b[0m 34ms/step\n"
     ]
    },
    {
     "data": {
      "text/plain": [
       "0.03831393"
      ]
     },
     "execution_count": 14,
     "metadata": {},
     "output_type": "execute_result"
    }
   ],
   "source": [
    "prediction_proba = model.predict(input_scaled)[0][0]\n",
    "prediction_proba"
   ]
  },
  {
   "cell_type": "code",
   "execution_count": 15,
   "metadata": {},
   "outputs": [
    {
     "name": "stdout",
     "output_type": "stream",
     "text": [
      "The custome is not likely to churn.\n"
     ]
    }
   ],
   "source": [
    "if prediction_proba > 0.5:\n",
    "    print(\"The customer is likely to churn\")\n",
    "else:\n",
    "    print(\"The custome is not likely to churn.\")"
   ]
  },
  {
   "cell_type": "code",
   "execution_count": 16,
   "metadata": {},
   "outputs": [
    {
     "data": {
      "text/html": [
       "<pre style=\"white-space:pre;overflow-x:auto;line-height:normal;font-family:Menlo,'DejaVu Sans Mono',consolas,'Courier New',monospace\"><span style=\"font-weight: bold\">Model: \"sequential\"</span>\n",
       "</pre>\n"
      ],
      "text/plain": [
       "\u001b[1mModel: \"sequential\"\u001b[0m\n"
      ]
     },
     "metadata": {},
     "output_type": "display_data"
    },
    {
     "data": {
      "text/html": [
       "<pre style=\"white-space:pre;overflow-x:auto;line-height:normal;font-family:Menlo,'DejaVu Sans Mono',consolas,'Courier New',monospace\">┏━━━━━━━━━━━━━━━━━━━━━━━━━━━━━━━━━┳━━━━━━━━━━━━━━━━━━━━━━━━┳━━━━━━━━━━━━━━━┓\n",
       "┃<span style=\"font-weight: bold\"> Layer (type)                    </span>┃<span style=\"font-weight: bold\"> Output Shape           </span>┃<span style=\"font-weight: bold\">       Param # </span>┃\n",
       "┡━━━━━━━━━━━━━━━━━━━━━━━━━━━━━━━━━╇━━━━━━━━━━━━━━━━━━━━━━━━╇━━━━━━━━━━━━━━━┩\n",
       "│ H_1 (<span style=\"color: #0087ff; text-decoration-color: #0087ff\">Dense</span>)                     │ (<span style=\"color: #00d7ff; text-decoration-color: #00d7ff\">None</span>, <span style=\"color: #00af00; text-decoration-color: #00af00\">64</span>)             │           <span style=\"color: #00af00; text-decoration-color: #00af00\">832</span> │\n",
       "├─────────────────────────────────┼────────────────────────┼───────────────┤\n",
       "│ H_2 (<span style=\"color: #0087ff; text-decoration-color: #0087ff\">Dense</span>)                     │ (<span style=\"color: #00d7ff; text-decoration-color: #00d7ff\">None</span>, <span style=\"color: #00af00; text-decoration-color: #00af00\">32</span>)             │         <span style=\"color: #00af00; text-decoration-color: #00af00\">2,080</span> │\n",
       "├─────────────────────────────────┼────────────────────────┼───────────────┤\n",
       "│ OUTPUT (<span style=\"color: #0087ff; text-decoration-color: #0087ff\">Dense</span>)                  │ (<span style=\"color: #00d7ff; text-decoration-color: #00d7ff\">None</span>, <span style=\"color: #00af00; text-decoration-color: #00af00\">1</span>)              │            <span style=\"color: #00af00; text-decoration-color: #00af00\">33</span> │\n",
       "└─────────────────────────────────┴────────────────────────┴───────────────┘\n",
       "</pre>\n"
      ],
      "text/plain": [
       "┏━━━━━━━━━━━━━━━━━━━━━━━━━━━━━━━━━┳━━━━━━━━━━━━━━━━━━━━━━━━┳━━━━━━━━━━━━━━━┓\n",
       "┃\u001b[1m \u001b[0m\u001b[1mLayer (type)                   \u001b[0m\u001b[1m \u001b[0m┃\u001b[1m \u001b[0m\u001b[1mOutput Shape          \u001b[0m\u001b[1m \u001b[0m┃\u001b[1m \u001b[0m\u001b[1m      Param #\u001b[0m\u001b[1m \u001b[0m┃\n",
       "┡━━━━━━━━━━━━━━━━━━━━━━━━━━━━━━━━━╇━━━━━━━━━━━━━━━━━━━━━━━━╇━━━━━━━━━━━━━━━┩\n",
       "│ H_1 (\u001b[38;5;33mDense\u001b[0m)                     │ (\u001b[38;5;45mNone\u001b[0m, \u001b[38;5;34m64\u001b[0m)             │           \u001b[38;5;34m832\u001b[0m │\n",
       "├─────────────────────────────────┼────────────────────────┼───────────────┤\n",
       "│ H_2 (\u001b[38;5;33mDense\u001b[0m)                     │ (\u001b[38;5;45mNone\u001b[0m, \u001b[38;5;34m32\u001b[0m)             │         \u001b[38;5;34m2,080\u001b[0m │\n",
       "├─────────────────────────────────┼────────────────────────┼───────────────┤\n",
       "│ OUTPUT (\u001b[38;5;33mDense\u001b[0m)                  │ (\u001b[38;5;45mNone\u001b[0m, \u001b[38;5;34m1\u001b[0m)              │            \u001b[38;5;34m33\u001b[0m │\n",
       "└─────────────────────────────────┴────────────────────────┴───────────────┘\n"
      ]
     },
     "metadata": {},
     "output_type": "display_data"
    },
    {
     "data": {
      "text/html": [
       "<pre style=\"white-space:pre;overflow-x:auto;line-height:normal;font-family:Menlo,'DejaVu Sans Mono',consolas,'Courier New',monospace\"><span style=\"font-weight: bold\"> Total params: </span><span style=\"color: #00af00; text-decoration-color: #00af00\">2,947</span> (11.52 KB)\n",
       "</pre>\n"
      ],
      "text/plain": [
       "\u001b[1m Total params: \u001b[0m\u001b[38;5;34m2,947\u001b[0m (11.52 KB)\n"
      ]
     },
     "metadata": {},
     "output_type": "display_data"
    },
    {
     "data": {
      "text/html": [
       "<pre style=\"white-space:pre;overflow-x:auto;line-height:normal;font-family:Menlo,'DejaVu Sans Mono',consolas,'Courier New',monospace\"><span style=\"font-weight: bold\"> Trainable params: </span><span style=\"color: #00af00; text-decoration-color: #00af00\">2,945</span> (11.50 KB)\n",
       "</pre>\n"
      ],
      "text/plain": [
       "\u001b[1m Trainable params: \u001b[0m\u001b[38;5;34m2,945\u001b[0m (11.50 KB)\n"
      ]
     },
     "metadata": {},
     "output_type": "display_data"
    },
    {
     "data": {
      "text/html": [
       "<pre style=\"white-space:pre;overflow-x:auto;line-height:normal;font-family:Menlo,'DejaVu Sans Mono',consolas,'Courier New',monospace\"><span style=\"font-weight: bold\"> Non-trainable params: </span><span style=\"color: #00af00; text-decoration-color: #00af00\">0</span> (0.00 B)\n",
       "</pre>\n"
      ],
      "text/plain": [
       "\u001b[1m Non-trainable params: \u001b[0m\u001b[38;5;34m0\u001b[0m (0.00 B)\n"
      ]
     },
     "metadata": {},
     "output_type": "display_data"
    },
    {
     "data": {
      "text/html": [
       "<pre style=\"white-space:pre;overflow-x:auto;line-height:normal;font-family:Menlo,'DejaVu Sans Mono',consolas,'Courier New',monospace\"><span style=\"font-weight: bold\"> Optimizer params: </span><span style=\"color: #00af00; text-decoration-color: #00af00\">2</span> (12.00 B)\n",
       "</pre>\n"
      ],
      "text/plain": [
       "\u001b[1m Optimizer params: \u001b[0m\u001b[38;5;34m2\u001b[0m (12.00 B)\n"
      ]
     },
     "metadata": {},
     "output_type": "display_data"
    }
   ],
   "source": [
    "model.summary()"
   ]
  },
  {
   "cell_type": "markdown",
   "metadata": {},
   "source": [
    "# This are the training weights of the models. "
   ]
  },
  {
   "cell_type": "code",
   "execution_count": 17,
   "metadata": {},
   "outputs": [
    {
     "data": {
      "text/plain": [
       "[<Variable path=sequential/H_1/kernel, shape=(12, 64), dtype=float32, value=[[ 1.78578183e-01  8.49694684e-02 -2.16794446e-01  3.90302017e-02\n",
       "    1.34743720e-01  1.73019871e-01 -7.03480318e-02 -8.98421630e-02\n",
       "   -3.02507263e-02  9.18923840e-02 -4.98765595e-02  5.35553806e-02\n",
       "   -3.00938606e-01  1.48416802e-01  1.78634282e-02 -2.60350648e-02\n",
       "   -2.99887389e-01  1.32333443e-01  2.15221643e-01 -1.92775771e-01\n",
       "    8.25578570e-02 -1.87233210e-01  1.62920833e-01 -7.29773119e-02\n",
       "    1.53747931e-01 -1.98680669e-01 -2.02422783e-01  1.84923977e-01\n",
       "   -1.11656236e-02  2.10056230e-02  9.89659037e-03  8.62173140e-02\n",
       "   -7.64741302e-02 -1.62313610e-01  2.08185911e-01  5.61998878e-03\n",
       "   -9.12091210e-02  6.52125664e-03 -1.79878518e-01  1.19514875e-01\n",
       "    1.19522497e-01 -7.65471440e-03  7.49759823e-02  1.79743562e-02\n",
       "   -1.51977003e-01  1.24862961e-01  4.55295332e-02 -1.41623870e-01\n",
       "    8.85466784e-02 -1.50423616e-01 -2.44620070e-02  6.68595508e-02\n",
       "    3.87993634e-01 -1.26227364e-01  1.85932100e-01  1.71140939e-01\n",
       "    3.04047614e-01  3.02761681e-02 -1.07509308e-01  5.64876944e-02\n",
       "   -6.87374473e-02 -7.41360784e-02 -2.67689854e-01  9.83334333e-03]\n",
       "  [ 4.10741091e-01 -2.53711944e-03 -2.34228019e-02 -9.36163142e-02\n",
       "   -1.27534777e-01 -3.21124285e-01  1.13124803e-01 -1.53753504e-01\n",
       "   -8.08002148e-03 -6.43164339e-03 -1.52876556e-01  2.60479003e-01\n",
       "    1.74460292e-01  5.41152284e-02 -7.15989172e-02 -2.13945344e-01\n",
       "   -3.72520015e-02  6.87189549e-02  2.21753001e-01 -1.75490290e-01\n",
       "    1.35455698e-01  1.41534004e-02 -6.68545738e-02 -1.69295818e-01\n",
       "   -1.15336090e-01 -3.43162358e-01 -2.15352941e-02  1.96687020e-02\n",
       "   -1.75602317e-01 -7.51631847e-03 -1.89118937e-01  1.11777849e-01\n",
       "   -1.01270758e-01  3.10730875e-01 -2.82650292e-01 -1.67642102e-01\n",
       "   -9.55470577e-02 -9.64097902e-02  9.31181312e-02  1.44801633e-02\n",
       "    6.55134488e-03  2.54395068e-01  2.61978805e-01  6.73752129e-02\n",
       "   -2.27202192e-01 -1.49535701e-01  1.91259891e-01 -1.27413779e-01\n",
       "    1.14059709e-01 -4.50540632e-02  4.84441258e-02  8.85479897e-02\n",
       "    2.29784504e-01  1.44636557e-01  8.07986408e-02 -8.35967958e-02\n",
       "    2.83359021e-01  6.18148362e-03  3.36169451e-01 -1.56291742e-02\n",
       "    1.49494603e-01 -1.34131402e-01 -9.67193022e-02 -1.95669666e-01]\n",
       "  [-1.75376087e-01 -2.37273909e-02  4.74970132e-01 -9.87979248e-02\n",
       "    1.49070114e-01 -2.23800674e-01  3.86033058e-01  8.55290070e-02\n",
       "    3.07608813e-01  4.94743347e-01 -1.79434612e-01  3.14907521e-01\n",
       "    1.25579990e-03 -5.63902687e-03  2.34423757e-01  1.07212119e-01\n",
       "   -2.24545181e-01  6.68633133e-02 -5.01792654e-02 -1.20894052e-01\n",
       "    1.19566888e-01  8.09961796e-01  5.58552854e-02 -2.16720700e-01\n",
       "    1.41586706e-01 -6.83357567e-02  1.81306794e-01 -4.54587340e-02\n",
       "    6.85470030e-02  2.99742550e-01 -5.06609753e-02 -2.70029843e-01\n",
       "   -2.13529561e-02 -1.26885578e-01  1.01008065e-01  4.85638887e-01\n",
       "    1.16790988e-01  1.52847567e-03  3.18007618e-01  3.53228420e-01\n",
       "   -2.11127698e-01 -2.57235736e-01 -5.96441254e-02  1.59846365e-01\n",
       "   -1.70570016e-02 -1.75977185e-01 -1.49320737e-01 -3.89121920e-01\n",
       "    7.17163607e-02  5.13737537e-02 -2.48526439e-01 -1.91369489e-01\n",
       "    1.73904404e-01 -1.22892976e-01 -3.06506753e-01 -3.62934805e-02\n",
       "    1.74297884e-01 -3.39428961e-01  2.58007515e-02 -1.98189482e-01\n",
       "    2.59161651e-01  7.04079121e-02 -1.93926632e-01  4.63603325e-02]\n",
       "  [ 2.30807975e-01  7.09042028e-02 -1.43381685e-01 -2.19298825e-02\n",
       "    6.98043033e-02  3.56363580e-02  5.64254373e-02  2.41929010e-01\n",
       "    2.65813649e-01  6.50554225e-02 -2.13864967e-01 -1.41408741e-01\n",
       "   -1.67772487e-01  3.42148356e-02  2.02727884e-01 -1.96519777e-01\n",
       "    2.44283229e-01  5.05123883e-02 -2.37829849e-01 -4.55877371e-02\n",
       "   -1.58924252e-01 -2.09675580e-01  1.83745861e-01  1.34393677e-01\n",
       "   -1.99445963e-01 -7.79788494e-02 -1.19212873e-01  1.93318009e-01\n",
       "    4.98984717e-02  1.98127672e-01  1.66816026e-01  8.13218653e-02\n",
       "   -1.63540468e-01  1.87143490e-01  1.94508329e-01 -2.85951812e-02\n",
       "   -2.16512904e-01  2.09324677e-02  4.40844260e-02 -9.01856795e-02\n",
       "   -6.55739829e-02  1.13412641e-01  1.64587557e-01 -4.70493324e-02\n",
       "   -8.95861387e-02 -3.46744657e-01  1.22991480e-01  1.90721527e-02\n",
       "   -2.02194780e-01  1.43038616e-01 -3.14488679e-01  1.97906002e-01\n",
       "   -3.23434651e-01  1.98662087e-01 -1.27106411e-02 -1.17109627e-01\n",
       "   -1.76901236e-01 -1.74650729e-01  1.19876117e-01  1.80171710e-02\n",
       "   -6.95465058e-02  2.84961283e-01  2.36029893e-01  2.60430098e-01]\n",
       "  [-1.88855842e-01  3.81660312e-01  1.62592486e-01  4.22771759e-02\n",
       "   -1.53493270e-01 -3.18628818e-01  6.92548454e-02  4.64158840e-02\n",
       "    4.19431366e-02  1.22271620e-01 -3.11103582e-01  1.74538389e-01\n",
       "    2.79682308e-01  3.71464267e-02 -3.97507519e-01 -1.44968405e-01\n",
       "    3.35309505e-01 -3.18081351e-03 -1.41947255e-01  3.00456166e-01\n",
       "   -1.15113728e-01  2.44556256e-02  2.32114971e-01 -1.49247080e-01\n",
       "   -1.40450355e-02  1.36661977e-01  1.71418309e-01  1.23313077e-01\n",
       "    1.10546820e-01  4.79012132e-02 -9.27429497e-02 -3.26142997e-01\n",
       "    4.16465960e-02 -3.55554193e-01  2.67975986e-01 -2.69144505e-01\n",
       "    1.83029592e-01 -7.63062984e-02 -1.45897478e-01 -4.15909886e-02\n",
       "    4.37956154e-02 -2.82081157e-01 -4.04943138e-01  1.14694737e-01\n",
       "    1.63646385e-01  3.24483901e-01  2.04974055e-01 -5.48919546e-04\n",
       "   -1.16315983e-01 -9.73057002e-02  1.30024746e-01  2.30002120e-01\n",
       "   -3.69001627e-01  2.30372429e-01  6.79221973e-02 -8.66359025e-02\n",
       "    1.23089328e-01  7.12511986e-02  2.77930070e-02 -6.37977719e-01\n",
       "    4.75404272e-03 -4.12813663e-01 -2.96700567e-01 -1.96864411e-01]\n",
       "  [ 1.51571319e-01  4.00082141e-01  4.92946774e-01  1.03800595e-01\n",
       "    3.43369782e-01 -3.15462500e-01  6.56469986e-02 -2.13765614e-02\n",
       "   -2.95349598e-01  2.71370769e-01  2.21774608e-01 -1.04022935e-01\n",
       "    7.52011016e-02 -2.53891964e-02 -4.59539056e-01  1.54356882e-01\n",
       "    1.46789223e-01  1.41653225e-01 -3.11502427e-01  1.61023676e-01\n",
       "   -7.62048662e-02 -1.94048688e-01 -1.35612726e-01  1.01246357e-01\n",
       "   -2.77057290e-01  2.73872644e-01 -2.39308357e-01 -1.91971183e-01\n",
       "   -2.99614698e-01  1.10917099e-01  5.24908066e-01  1.00303307e-01\n",
       "   -4.47548896e-01 -6.00227453e-02 -5.12589365e-02 -1.26263769e-02\n",
       "    5.71422637e-01  4.96219963e-01 -3.65888745e-01  1.32219363e-02\n",
       "   -1.57348707e-01  3.14060181e-01 -9.70334187e-02 -5.40238857e-01\n",
       "   -1.73484653e-01 -1.40748173e-01 -9.41360220e-02  2.19227821e-02\n",
       "    9.85108092e-02  5.59811950e-01  1.81768052e-02 -2.36567229e-01\n",
       "   -8.30954462e-02 -3.62119339e-02 -6.60094470e-02  5.52769363e-01\n",
       "    3.44028413e-01  1.56228676e-01  3.07152092e-01 -1.44917980e-01\n",
       "   -5.48859537e-02  6.20657913e-02  2.37928107e-02 -1.02062419e-01]\n",
       "  [-8.49553198e-03 -4.26580310e-02  1.07655562e-01  2.46030018e-01\n",
       "    2.18368471e-01  1.80672780e-01  1.27989173e-01 -1.07283279e-01\n",
       "   -5.46834767e-02 -1.09052835e-02  2.04299420e-01  2.58255601e-01\n",
       "    3.18447620e-01 -1.35296941e-01  7.65640140e-02 -1.98543385e-01\n",
       "   -1.25041708e-01 -1.42567545e-01 -1.15463428e-01  3.10301900e-01\n",
       "   -1.51735291e-01  1.01597376e-01 -1.96147650e-01  2.14747861e-01\n",
       "    3.07696834e-02  2.53944337e-01 -2.34053135e-01 -2.33129308e-01\n",
       "   -4.19820705e-03  1.66045830e-01  1.07734231e-02 -2.01636385e-02\n",
       "    2.66198870e-02  1.51679888e-01  1.67254850e-01 -1.32918218e-03\n",
       "   -1.12862647e-01 -1.95691615e-01 -2.04336807e-01  9.94342193e-02\n",
       "    3.28058928e-01 -1.41999051e-01  7.74879530e-02  2.25153435e-02\n",
       "   -1.96015030e-01  2.40455359e-01  3.98094565e-01 -8.60954896e-02\n",
       "   -2.03353032e-01  1.75367281e-01 -3.29035252e-01 -1.35748625e-01\n",
       "    1.90289885e-01 -2.70260423e-01 -5.33087831e-03  1.59997910e-01\n",
       "    3.05996034e-02 -9.58720129e-03  1.02390936e-02 -5.29804938e-02\n",
       "    2.00872511e-01  3.73287141e-01 -1.83046415e-01  3.05469990e-01]\n",
       "  [ 2.85097837e-01  8.05315673e-02  9.12347212e-02 -1.05077662e-01\n",
       "    1.85253978e-01  2.67594457e-02  3.20312172e-01  3.11881602e-01\n",
       "   -2.46425420e-01 -2.91467272e-02 -8.72683674e-02  9.13380831e-03\n",
       "    2.98830509e-01  2.90895134e-01  1.89944394e-02  1.40417367e-01\n",
       "   -1.78970352e-01 -1.30372196e-01 -2.95666665e-01  2.31897980e-01\n",
       "    3.38101536e-01  1.85233295e-01  2.83688396e-01  3.61842364e-01\n",
       "   -2.81597018e-01  1.15577221e-01 -2.47060377e-02 -2.59952188e-01\n",
       "   -2.04862952e-01  3.78883213e-01  1.05743259e-02  4.57555205e-02\n",
       "   -2.89393663e-01 -2.57241637e-01  2.68225484e-02 -4.96702734e-03\n",
       "   -1.30577326e-01 -2.88173199e-01 -1.63724467e-01  2.34254092e-01\n",
       "    1.78667277e-01 -2.14764655e-01  1.66006088e-01 -2.24286348e-01\n",
       "   -1.66913383e-02  3.82964946e-02 -3.55673730e-01 -2.58675635e-01\n",
       "    3.42318654e-01  6.84642494e-02 -1.89134121e-01 -2.43233472e-01\n",
       "   -1.05402119e-01 -1.32263258e-01 -3.21924061e-01  4.99570146e-02\n",
       "   -3.31607431e-01  1.68753266e-01 -2.22575739e-01  3.31130326e-02\n",
       "   -1.95048645e-01  8.80730376e-02  1.37332618e-01  1.57182455e-01]\n",
       "  [-5.07406592e-02  2.25097593e-02  6.83246972e-03  5.23421355e-02\n",
       "    1.72398075e-01 -6.71438947e-02  9.72402245e-02 -2.32777327e-01\n",
       "   -1.21568568e-01  2.20747501e-01  2.09646989e-02  2.66931802e-01\n",
       "   -1.37622803e-01 -1.70893177e-01  2.22578302e-01 -2.24400908e-01\n",
       "    4.15806115e-01 -1.28049050e-02 -3.83633375e-02  6.05624244e-02\n",
       "   -1.83064029e-01  9.60707664e-02  1.83173403e-01  1.27535060e-01\n",
       "    2.81307191e-01  2.76417196e-01  1.20542675e-01  4.21131879e-01\n",
       "    2.25082651e-01  1.09360531e-01 -7.14459196e-02 -1.44218057e-01\n",
       "   -5.36385216e-02  3.07432264e-02 -5.90058602e-02 -1.54852301e-01\n",
       "   -9.53431576e-02  7.96337202e-02 -1.70014396e-01  1.47018237e-02\n",
       "    3.60090613e-01  1.84820846e-01 -5.82469478e-02 -4.87857312e-02\n",
       "    4.21307515e-03  1.56371325e-01 -1.54588029e-01 -2.94777937e-02\n",
       "    6.48230016e-02  9.45131928e-02  7.58498982e-02 -3.14838260e-01\n",
       "    2.33079419e-01  2.62846611e-02  1.03131674e-01  2.47757569e-01\n",
       "   -1.09608009e-01 -1.13213830e-01  1.76822886e-01 -2.37165904e-03\n",
       "   -2.86368374e-02 -2.56358087e-01 -1.94100723e-01 -1.88614756e-01]\n",
       "  [ 3.15398127e-01  1.33923680e-01  9.26551316e-03  2.81952769e-01\n",
       "   -1.24214053e-01  2.51750737e-01 -1.12352446e-01  4.59071994e-02\n",
       "   -2.75886077e-02  1.59389451e-01 -6.74910052e-03  2.89568901e-01\n",
       "    1.34105012e-01  2.46061787e-01 -2.44791120e-01  2.40233749e-01\n",
       "    1.91869795e-01 -2.10872427e-01 -2.14259505e-01 -1.60179153e-01\n",
       "    2.57058322e-01 -1.92531079e-01 -1.46457359e-01 -2.76083529e-01\n",
       "   -1.46047384e-01 -1.47642806e-01  1.85141221e-01  1.45064235e-01\n",
       "    4.69384715e-02 -2.20741946e-02 -2.43579507e-01 -3.88327479e-01\n",
       "   -7.77485594e-02 -3.60074848e-01 -1.52539372e-01 -1.67655777e-02\n",
       "    9.62131768e-02 -4.42890562e-02 -1.05020724e-01 -1.98899865e-01\n",
       "   -8.98805484e-02 -1.44883975e-01 -1.92897383e-03  1.53509751e-01\n",
       "    8.74276087e-02 -2.02848241e-01  1.28239065e-01 -1.57187894e-01\n",
       "   -7.10663795e-02  1.03044838e-01  1.50963783e-01 -2.67202765e-01\n",
       "    5.58066368e-02  3.11541378e-01  2.92435586e-01 -1.91406280e-01\n",
       "    2.37490624e-01  2.17865378e-01  7.37366378e-02 -1.49097694e-02\n",
       "    1.03735939e-01  5.34777977e-02 -8.52303877e-02 -9.45441648e-02]\n",
       "  [ 7.67314956e-02 -3.20190042e-01 -6.02765307e-02 -3.86081994e-01\n",
       "    1.72663987e-01 -4.05839793e-02 -1.88630760e-01  1.93708867e-01\n",
       "   -3.58932428e-02  5.14576323e-02  2.09722698e-01 -6.38167979e-03\n",
       "    2.15383187e-01 -3.70174289e-01  2.18782097e-01  7.12801963e-02\n",
       "    1.67526156e-01  2.45814711e-01 -1.70559555e-01 -3.41252923e-01\n",
       "    2.01877117e-01 -2.00981777e-02  2.20193863e-02  1.24276616e-02\n",
       "   -3.20418805e-01 -1.50752977e-01 -8.54359493e-02 -8.71415362e-02\n",
       "    1.05893619e-01 -2.08158180e-01 -1.33358449e-01 -5.41736782e-02\n",
       "    7.76358545e-02 -1.50403110e-02 -7.80297518e-02  1.79259434e-01\n",
       "   -6.15355372e-03  1.55501693e-01 -2.58554786e-01  2.25496858e-01\n",
       "    8.57081339e-02  1.59365892e-01 -3.54839355e-01  1.18452266e-01\n",
       "   -6.54367432e-02  2.28215680e-01 -1.97731301e-01 -5.13089411e-02\n",
       "   -2.87505627e-01  1.21448182e-01  2.98233062e-01 -1.34177893e-01\n",
       "   -5.53337708e-02 -2.88042843e-01 -1.93502769e-01  1.31213665e-01\n",
       "    2.69640554e-02 -2.66987920e-01  6.71025589e-02 -3.07459116e-01\n",
       "    3.88720818e-02 -9.13777798e-02  5.56470752e-02  1.58472136e-01]\n",
       "  [-1.64370373e-01  1.00448944e-01  1.63269058e-01 -4.53054905e-01\n",
       "    7.06681758e-02  2.21284449e-01  1.06688403e-02  1.25939354e-01\n",
       "   -2.33863190e-01  1.96192265e-01 -3.63505967e-02  9.63779762e-02\n",
       "   -9.89941657e-02  1.48258582e-02 -1.17560297e-01 -2.99866945e-01\n",
       "    2.03531146e-01 -3.39063764e-01  1.63275942e-01  2.46355519e-01\n",
       "   -4.25818980e-01 -2.05975503e-01  1.89504713e-01 -2.01450750e-01\n",
       "    1.91824734e-01 -2.95709312e-01 -1.87583882e-02 -1.52478501e-01\n",
       "    2.21852269e-02 -3.84641439e-02  1.91369951e-02  3.12664926e-01\n",
       "    2.15119153e-01 -7.30761960e-02 -2.18230963e-01 -6.91841692e-02\n",
       "    3.09681326e-01  1.67129159e-01 -2.71515995e-01  3.13195139e-01\n",
       "   -6.69654235e-02 -2.05740169e-01  3.15872699e-01 -2.01825472e-03\n",
       "    2.32939482e-01 -2.45038211e-01 -3.11174197e-03  9.18135196e-02\n",
       "    2.32417330e-01 -3.60514186e-02  9.00141820e-02  2.84274817e-01\n",
       "    3.62301432e-02  2.09592730e-02 -2.76093949e-02  1.14648260e-01\n",
       "    1.19457573e-01 -2.40994647e-01  2.30776384e-01  1.91211089e-01\n",
       "   -2.32286587e-01  3.25491488e-01 -3.83815497e-01  1.17498688e-01]]>,\n",
       " <Variable path=sequential/H_1/bias, shape=(64,), dtype=float32, value=[ 0.17298563 -0.14952433 -0.14605096  0.13173899 -0.06080656 -0.02213162\n",
       "  -0.14964768  0.00738841  0.03058386 -0.09491408  0.13578019 -0.01088316\n",
       "   0.07841106  0.02074965  0.050937    0.09074523 -0.00240019  0.10406443\n",
       "   0.011566    0.16580358  0.13143733 -0.04277182  0.14975071  0.10242663\n",
       "   0.0128018  -0.08580863  0.14607228  0.08776504 -0.01239415 -0.03662302\n",
       "  -0.19476481  0.06425212  0.10977915  0.06607305 -0.12695701  0.00465342\n",
       "  -0.10333734 -0.13873963 -0.00973116 -0.00561226  0.18240061  0.17434147\n",
       "   0.19975385  0.02311524  0.02221369  0.11324435  0.19820042  0.3522461\n",
       "   0.16624235 -0.22565088  0.16875343  0.05327004  0.14022969  0.07497542\n",
       "   0.17576611 -0.08565164 -0.09096456  0.18226893 -0.00279081  0.04222514\n",
       "  -0.14124459  0.00390391  0.11785987  0.09790932]>]"
      ]
     },
     "execution_count": 17,
     "metadata": {},
     "output_type": "execute_result"
    }
   ],
   "source": [
    "model.layers[0].weights"
   ]
  },
  {
   "cell_type": "code",
   "execution_count": 18,
   "metadata": {},
   "outputs": [
    {
     "data": {
      "text/plain": [
       "<tf.Tensor: shape=(64,), dtype=float32, numpy=\n",
       "array([ 0.17857818,  0.08496947, -0.21679445,  0.0390302 ,  0.13474372,\n",
       "        0.17301987, -0.07034803, -0.08984216, -0.03025073,  0.09189238,\n",
       "       -0.04987656,  0.05355538, -0.3009386 ,  0.1484168 ,  0.01786343,\n",
       "       -0.02603506, -0.2998874 ,  0.13233344,  0.21522164, -0.19277577,\n",
       "        0.08255786, -0.18723321,  0.16292083, -0.07297731,  0.15374793,\n",
       "       -0.19868067, -0.20242278,  0.18492398, -0.01116562,  0.02100562,\n",
       "        0.00989659,  0.08621731, -0.07647413, -0.16231361,  0.20818591,\n",
       "        0.00561999, -0.09120912,  0.00652126, -0.17987852,  0.11951488,\n",
       "        0.1195225 , -0.00765471,  0.07497598,  0.01797436, -0.151977  ,\n",
       "        0.12486296,  0.04552953, -0.14162387,  0.08854668, -0.15042362,\n",
       "       -0.02446201,  0.06685955,  0.38799363, -0.12622736,  0.1859321 ,\n",
       "        0.17114094,  0.3040476 ,  0.03027617, -0.10750931,  0.05648769,\n",
       "       -0.06873745, -0.07413608, -0.26768985,  0.00983334], dtype=float32)>"
      ]
     },
     "execution_count": 18,
     "metadata": {},
     "output_type": "execute_result"
    }
   ],
   "source": [
    "model.layers[0].weights[0].value[0]"
   ]
  },
  {
   "cell_type": "code",
   "execution_count": 19,
   "metadata": {},
   "outputs": [
    {
     "data": {
      "text/plain": [
       "TensorShape([64])"
      ]
     },
     "execution_count": 19,
     "metadata": {},
     "output_type": "execute_result"
    }
   ],
   "source": [
    "model.layers[0].weights[1].value.shape"
   ]
  },
  {
   "cell_type": "code",
   "execution_count": null,
   "metadata": {},
   "outputs": [],
   "source": []
  }
 ],
 "metadata": {
  "kernelspec": {
   "display_name": "base",
   "language": "python",
   "name": "python3"
  },
  "language_info": {
   "codemirror_mode": {
    "name": "ipython",
    "version": 3
   },
   "file_extension": ".py",
   "mimetype": "text/x-python",
   "name": "python",
   "nbconvert_exporter": "python",
   "pygments_lexer": "ipython3",
   "version": "3.11.5"
  }
 },
 "nbformat": 4,
 "nbformat_minor": 2
}
